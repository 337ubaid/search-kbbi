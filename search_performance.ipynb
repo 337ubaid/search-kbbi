{
 "cells": [
  {
   "cell_type": "code",
   "execution_count": 4,
   "metadata": {},
   "outputs": [
    {
     "name": "stdout",
     "output_type": "stream",
     "text": [
      "Binary Search time: 0.000222 seconds\n",
      "DataFrame search time: 45.018364 seconds\n",
      "Hash Table search time: 0.000010 seconds\n"
     ]
    }
   ],
   "source": [
    "import pandas as pd\n",
    "import timeit\n",
    "\n",
    "# generate dataset\n",
    "data = {'kata': [\"kata\" + str(i) for i in range(10_000_000)]}\n",
    "df = pd.DataFrame(data)\n",
    "kata_cari = \"kata5000000\"\n",
    "\n",
    "# binary search function\n",
    "def binary_search(arr, x):\n",
    "    low = 0\n",
    "    high = len(arr) - 1\n",
    "    while low <= high:\n",
    "        mid = (high + low) // 2\n",
    "        if arr[mid] < x:\n",
    "            low = mid + 1\n",
    "        elif arr[mid] > x:\n",
    "            high = mid - 1\n",
    "        else:\n",
    "            return mid\n",
    "    return -1\n",
    "\n",
    "sorted_list = df['kata'].tolist()\n",
    "\n",
    "# time binary search\n",
    "binary_search_time = timeit.timeit(lambda: binary_search(sorted_list, kata_cari), number=100)\n",
    "\n",
    "# time dataframe search\n",
    "df_search_time = timeit.timeit(lambda: df[df['kata'] == kata_cari], number=100)\n",
    "\n",
    "# time Hash Table\n",
    "hash_table = {word: True for word in sorted_list}\n",
    "hash_search_time = timeit.timeit(lambda: hash_table.get(kata_cari), number=100)\n",
    "\n",
    "print(f\"Binary Search time: {binary_search_time:.6f} seconds\")\n",
    "print(f\"DataFrame search time: {df_search_time:.6f} seconds\")\n",
    "print(f\"Hash Table search time: {hash_search_time:.6f} seconds\")\n"
   ]
  }
 ],
 "metadata": {
  "kernelspec": {
   "display_name": "Python 3",
   "language": "python",
   "name": "python3"
  },
  "language_info": {
   "codemirror_mode": {
    "name": "ipython",
    "version": 3
   },
   "file_extension": ".py",
   "mimetype": "text/x-python",
   "name": "python",
   "nbconvert_exporter": "python",
   "pygments_lexer": "ipython3",
   "version": "3.12.4"
  }
 },
 "nbformat": 4,
 "nbformat_minor": 2
}
